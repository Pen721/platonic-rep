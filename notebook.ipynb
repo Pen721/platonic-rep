{
 "cells": [
  {
   "cell_type": "code",
   "execution_count": 14,
   "metadata": {},
   "outputs": [
    {
     "name": "stdout",
     "output_type": "stream",
     "text": [
      "\n",
      "File: cycle_knn_k10.npy\n",
      "scores: [[0.95117188 0.92480469]\n",
      " [0.9296875  0.94824219]]\n",
      "indices: [[[23. 23.]\n",
      "  [-1. -1.]]\n",
      "\n",
      " [[19. -1.]\n",
      "  [21. 20.]]]\n",
      "\n",
      "File: cka.npy\n",
      "scores: [[1.0000031  0.93485945]\n",
      " [0.93485945 1.00000203]]\n",
      "indices: [[[22. 22.]\n",
      "  [12. 13.]]\n",
      "\n",
      " [[13. 12.]\n",
      "  [22. 22.]]]\n",
      "\n",
      "File: unbiased_cka.npy\n",
      "scores: [[0.99979562 0.92984909]\n",
      " [0.92984909 0.99981648]]\n",
      "indices: [[[23. 23.]\n",
      "  [12. 13.]]\n",
      "\n",
      " [[13. 12.]\n",
      "  [23. 23.]]]\n",
      "\n",
      "File: svcca.npy\n",
      "scores: [[0.8550464  0.82115573]\n",
      " [0.82115573 0.88534151]]\n",
      "indices: [[[24. 24.]\n",
      "  [12. 14.]]\n",
      "\n",
      " [[14. 12.]\n",
      "  [13. 14.]]]\n",
      "\n",
      "File: mutual_knn_k10.npy\n",
      "scores: [[1.         0.64228523]\n",
      " [0.64228523 1.        ]]\n",
      "indices: [[[-1. -1.]\n",
      "  [-1. -1.]]\n",
      "\n",
      " [[-1. -1.]\n",
      "  [-1. -1.]]]\n"
     ]
    }
   ],
   "source": [
    "import numpy as np\n",
    "import os\n",
    "\n",
    "alignment_dir = 'results/alignment/minhuh/prh/val/language_pool-avg_prompt-False_language_pool-avg_prompt-False/'\n",
    "\n",
    "for filename in os.listdir(alignment_dir):\n",
    "    fp = os.path.join(alignment_dir, filename)\n",
    "    print(f\"\\nFile: {filename}\")\n",
    "    result = np.load(fp, allow_pickle=True).item()\n",
    "    for key in result.keys():\n",
    "        print(f\"{key}:\", result[key])"
   ]
  },
  {
   "cell_type": "code",
   "execution_count": null,
   "metadata": {},
   "outputs": [],
   "source": []
  }
 ],
 "metadata": {
  "kernelspec": {
   "display_name": ".venv",
   "language": "python",
   "name": "python3"
  },
  "language_info": {
   "codemirror_mode": {
    "name": "ipython",
    "version": 3
   },
   "file_extension": ".py",
   "mimetype": "text/x-python",
   "name": "python",
   "nbconvert_exporter": "python",
   "pygments_lexer": "ipython3",
   "version": "3.11.4"
  }
 },
 "nbformat": 4,
 "nbformat_minor": 2
}
